{
 "cells": [
  {
   "cell_type": "code",
   "execution_count": 11,
   "id": "c7befbc7",
   "metadata": {
    "collapsed": true
   },
   "outputs": [
    {
     "name": "stdout",
     "output_type": "stream",
     "text": [
      "Requirement already satisfied: networkx in c:\\programdata\\miniconda3\\lib\\site-packages (2.7.1)\n",
      "Collecting EoN\n",
      "  Downloading EoN-1.1.tar.gz (113 kB)\n",
      "Requirement already satisfied: networkx in c:\\programdata\\miniconda3\\lib\\site-packages (from EoN) (2.7.1)\n",
      "Requirement already satisfied: numpy in c:\\programdata\\miniconda3\\lib\\site-packages (from EoN) (1.22.3)\n",
      "Requirement already satisfied: scipy in c:\\programdata\\miniconda3\\lib\\site-packages (from EoN) (1.4.1)\n",
      "Requirement already satisfied: matplotlib in c:\\programdata\\miniconda3\\lib\\site-packages (from EoN) (3.2.0)\n",
      "Requirement already satisfied: pyparsing!=2.0.4,!=2.1.2,!=2.1.6,>=2.0.1 in c:\\programdata\\miniconda3\\lib\\site-packages (from matplotlib->EoN) (2.4.7)\n",
      "Requirement already satisfied: python-dateutil>=2.1 in c:\\programdata\\miniconda3\\lib\\site-packages (from matplotlib->EoN) (2.8.2)\n",
      "Requirement already satisfied: kiwisolver>=1.0.1 in c:\\programdata\\miniconda3\\lib\\site-packages (from matplotlib->EoN) (1.3.2)\n",
      "Requirement already satisfied: cycler>=0.10 in c:\\programdata\\miniconda3\\lib\\site-packages (from matplotlib->EoN) (0.10.0)\n",
      "Requirement already satisfied: six in c:\\users\\ibrahim badar roy\\appdata\\roaming\\python\\python38\\site-packages (from cycler>=0.10->matplotlib->EoN) (1.15.0)\n",
      "Building wheels for collected packages: EoN\n",
      "  Building wheel for EoN (setup.py): started\n",
      "  Building wheel for EoN (setup.py): finished with status 'done'\n",
      "  Created wheel for EoN: filename=EoN-1.1-py3-none-any.whl size=120819 sha256=7d727d63930faacfb297c3601df82693e09ff66446ba30773698e141848fe7cd\n",
      "  Stored in directory: c:\\users\\ibrahim badar roy\\appdata\\local\\pip\\cache\\wheels\\a4\\83\\c4\\108c801ed9d48177581562b9e60e44d009144d0d49b70e7bac\n",
      "Successfully built EoN\n",
      "Installing collected packages: EoN\n",
      "Successfully installed EoN-1.1\n"
     ]
    }
   ],
   "source": [
    "!pip install networkx\n",
    "!pip install EoN"
   ]
  },
  {
   "cell_type": "code",
   "execution_count": 26,
   "id": "6cb61faf",
   "metadata": {
    "scrolled": true
   },
   "outputs": [],
   "source": [
    "import networkx as nx\n",
    "import os\n",
    "import csv\n",
    "import EoN\n",
    "import matplotlib.pyplot as plt"
   ]
  },
  {
   "cell_type": "code",
   "execution_count": 2,
   "id": "5196ccff",
   "metadata": {},
   "outputs": [],
   "source": [
    "G = nx.Graph()"
   ]
  },
  {
   "cell_type": "code",
   "execution_count": 3,
   "id": "e8ab2bdc",
   "metadata": {},
   "outputs": [],
   "source": [
    "edges_dataset_path = os.path.join('..', 'Datasets', '2022 PROJECT TOPIC Air Transportation Network Analysis', 'Air transportation network', 'edges-comma-delimented.csv')\n",
    "nodes_dataset_path = os.path.join('..', 'Datasets', '2022 PROJECT TOPIC Air Transportation Network Analysis', 'Air transportation network', 'nodes-comma-delimented.csv')"
   ]
  },
  {
   "cell_type": "code",
   "execution_count": 4,
   "id": "51485f29",
   "metadata": {},
   "outputs": [],
   "source": [
    "airline_network_edges = open(edges_dataset_path, 'rb')\n",
    "G = nx.read_edgelist(airline_network_edges, delimiter=',')"
   ]
  },
  {
   "cell_type": "code",
   "execution_count": 5,
   "id": "f67f906a",
   "metadata": {},
   "outputs": [
    {
     "name": "stdout",
     "output_type": "stream",
     "text": [
      "3425\n"
     ]
    }
   ],
   "source": [
    "print(len(G.nodes))"
   ]
  },
  {
   "cell_type": "code",
   "execution_count": 6,
   "id": "ec2ba6df",
   "metadata": {},
   "outputs": [
    {
     "name": "stdout",
     "output_type": "stream",
     "text": [
      "19257\n"
     ]
    }
   ],
   "source": [
    "print(len(G.edges))"
   ]
  },
  {
   "cell_type": "code",
   "execution_count": 7,
   "id": "e198d013",
   "metadata": {},
   "outputs": [],
   "source": [
    "nodes_csv = csv.reader(open(nodes_dataset_path, encoding = 'utf-8'))\n",
    "for row in nodes_csv:\n",
    "    G.add_node(row[0], name = row[1], label = row[2], latitude = float(row[3]), longitude = float(row[4]))"
   ]
  },
  {
   "cell_type": "code",
   "execution_count": 36,
   "id": "c5bcc37b",
   "metadata": {},
   "outputs": [
    {
     "data": {
      "text/plain": [
       "[<matplotlib.lines.Line2D at 0x19d13b25f40>]"
      ]
     },
     "execution_count": 36,
     "metadata": {},
     "output_type": "execute_result"
    },
    {
     "data": {
      "image/png": "[encoded data removed]",
      "text/plain": [
       "<Figure size 432x288 with 1 Axes>"
      ]
     },
     "metadata": {
      "needs_background": "light"
     },
     "output_type": "display_data"
    }
   ],
   "source": [
    "tau = 0.9   # transmission rate\n",
    "gamma = 0.1 # recovery rate\n",
    "initially_infected = 'WUH'\n",
    "\n",
    "\n",
    "t, S, I, R = EoN.fast_SIR(G, tau, gamma, initially_infected)\n",
    "plt.plot(t, S, color = 'b', alpha = 0.7)\n",
    "plt.plot(t, I, color = 'r', alpha = 0.7)\n",
    "plt.plot(t, R, color = 'g', alpha = 0.7)"
   ]
  }
 ],
 "metadata": {
  "kernelspec": {
   "display_name": "Python 3 (ipykernel)",
   "language": "python",
   "name": "python3"
  },
  "language_info": {
   "codemirror_mode": {
    "name": "ipython",
    "version": 3
   },
   "file_extension": ".py",
   "mimetype": "text/x-python",
   "name": "python",
   "nbconvert_exporter": "python",
   "pygments_lexer": "ipython3",
   "version": "3.8.10"
  }
 },
 "nbformat": 4,
 "nbformat_minor": 5
}
