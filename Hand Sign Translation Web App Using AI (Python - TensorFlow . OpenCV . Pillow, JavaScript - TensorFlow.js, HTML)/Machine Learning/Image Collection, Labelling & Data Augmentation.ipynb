{
 "cells": [
  {
   "cell_type": "markdown",
   "id": "21bcbbb9",
   "metadata": {},
   "source": [
    "# Image Collection, Labelling & Data Augmentation"
   ]
  },
  {
   "cell_type": "markdown",
   "id": "2b465930",
   "metadata": {},
   "source": [
    "## Setup"
   ]
  },
  {
   "cell_type": "code",
   "execution_count": null,
   "id": "49338794",
   "metadata": {},
   "outputs": [],
   "source": [
    "# Provide operating system dependent functionality\n",
    "import os\n",
    "# Provides some common string operations\n",
    "import string\n",
    "# OpenCV packages for python\n",
    "!pip install opencv-python\n",
    "import cv2\n",
    "# Package used to create unique id's\n",
    "import uuid\n",
    "# Python Image Library\n",
    "from PIL import Image, ImageEnhance\n",
    "# Python Library for arrays\n",
    "import numpy as np\n",
    "# XML parser\n",
    "from xml.dom import minidom\n",
    "# Offers high level operations on files\n",
    "import shutil"
   ]
  },
  {
   "cell_type": "code",
   "execution_count": null,
   "id": "a373fd8b",
   "metadata": {},
   "outputs": [],
   "source": [
    "# Creates the file hierarchy for the project\n",
    "paths = {\n",
    "    'collected_images' : os.path.join('Tensorflow', 'Data', 'Images', 'Collected'),\n",
    "    'background_images' : os.path.join('Tensorflow', 'Data', 'Images', 'Background'),\n",
    "    'image_labelling_tool' : os.path.join('Image-Labelling-Tool', 'labelImg'),\n",
    "    'augmented_images' : os.path.join('Tensorflow', 'Data', 'Images', 'Augmented'),\n",
    "    'training_images' : os.path.join('Tensorflow', 'Data', 'Images', 'train'),\n",
    "    'testing_images' : os.path.join('Tensorflow', 'Data', 'Images', 'test')    \n",
    "}\n",
    "\n",
    "for path in paths.items():\n",
    "    if not os.path.exists(path[1]):\n",
    "        !mkdir {path[1]}"
   ]
  },
  {
   "cell_type": "markdown",
   "id": "a79a3b80",
   "metadata": {},
   "source": [
    "## 1. Creating the dataset"
   ]
  },
  {
   "cell_type": "markdown",
   "id": "3f41de35",
   "metadata": {},
   "source": [
    "### A. Image Collection"
   ]
  },
  {
   "cell_type": "code",
   "execution_count": null,
   "id": "6eb46d6d",
   "metadata": {},
   "outputs": [],
   "source": [
    "# Creates a directory for each label for which images need to be captured\n",
    "classes = ['Accept', 'Delete']\n",
    "for label in string.ascii_uppercase:\n",
    "    if label != 'J' and label != 'Z':\n",
    "        classes.append(label)\n",
    "\n",
    "for label in classes:\n",
    "    label_path = os.path.join(paths['collected_images'], label)\n",
    "    if not os.path.exists(label_path):\n",
    "        !mkdir {label_path}"
   ]
  },
  {
   "cell_type": "code",
   "execution_count": null,
   "id": "560f431a",
   "metadata": {
    "scrolled": false
   },
   "outputs": [],
   "source": [
    "# Used to capture images for the dataset\n",
    "\n",
    "# Number of Images to be taken for each class\n",
    "number_of_images = 20\n",
    "\n",
    "exit = False\n",
    "for label in classes:\n",
    "    # Establish video stream\n",
    "    camera = cv2.VideoCapture(0)\n",
    "    print(f'Collecting images for {label}')\n",
    "    for number in range(number_of_images):\n",
    "        print(f'Collecting image number {number}')\n",
    "        # Path to save image at. uuid ensures each image has a unique name\n",
    "        image_path = os.path.join(paths['collected_images'], label, f'collected.{uuid.uuid1()}.jpg')\n",
    "        while True:\n",
    "            # Read each frame from the video stream\n",
    "            ret, frame = camera.read()\n",
    "            # Display the frame from the video stream\n",
    "            cv2.imshow('Frame', frame)\n",
    "            # Take picture when the E key is pressed\n",
    "            if cv2.waitKey(1) & 0xFF == ord('e'):\n",
    "                cv2.imwrite(image_path, frame)\n",
    "                break\n",
    "            # Exit if the Q key is pressed\n",
    "            if cv2.waitKey(1) & 0xFF == ord('q'):\n",
    "                exit = True\n",
    "                print('Exited')\n",
    "                break\n",
    "        if exit:\n",
    "            break\n",
    "        else:\n",
    "            continue\n",
    "    if exit:\n",
    "        break\n",
    "    else:\n",
    "        continue\n",
    "\n",
    "# Release all resources    \n",
    "camera.release()\n",
    "# Close all cv2 windows\n",
    "cv2.destroyAllWindows()"
   ]
  },
  {
   "cell_type": "code",
   "execution_count": null,
   "id": "e9449494",
   "metadata": {},
   "outputs": [],
   "source": [
    "# Used to capture background images for data augmentation\n",
    "\n",
    "exit = False\n",
    "camera = cv2.VideoCapture(0)\n",
    "print(\"Camera Ready\")\n",
    "\n",
    "while not exit:\n",
    "    while True:\n",
    "        ret, frame = camera.read()\n",
    "        cv2.imshow('frame', frame)\n",
    "        if cv2.waitKey(1) & 0xFF == ord('e'):\n",
    "            background_image_path = os.path.join(paths['background_images'], f'background.{uuid.uuid1()}.jpg')\n",
    "            cv2.imwrite(background_image_path, frame)\n",
    "            print('Image Saved')\n",
    "            break\n",
    "        if cv2.waitKey(1) & 0xFF == ord('q'):\n",
    "            exit = True\n",
    "            print('Exited')\n",
    "            break\n",
    "\n",
    "camera.release()\n",
    "cv2.destroyAllWindows()"
   ]
  },
  {
   "cell_type": "markdown",
   "id": "89407d4a",
   "metadata": {},
   "source": [
    "### B. Installing LabelImg"
   ]
  },
  {
   "cell_type": "code",
   "execution_count": null,
   "id": "49017387",
   "metadata": {},
   "outputs": [],
   "source": [
    "# Installs XML processing library required by LabelImg\n",
    "!pip install --upgrade pyqt5 lxml\n",
    "# Clones and installs LabelImg (Tzutalin. LabelImg. Git code (2015))\n",
    "!git clone https://github.com/tzutalin/labelImg {paths['image_labelling_tool']}\n",
    "!cd {LABELIMG_PATH} && pyrcc5 -o libs/resources.py resources.qrc"
   ]
  },
  {
   "cell_type": "markdown",
   "id": "792528e8",
   "metadata": {},
   "source": [
    "### C. Image Labelling"
   ]
  },
  {
   "cell_type": "code",
   "execution_count": null,
   "id": "ef909add",
   "metadata": {
    "scrolled": true
   },
   "outputs": [],
   "source": [
    "# Opens LabelImg\n",
    "!cd {paths['image_labelling_tool']} && python labelImg.py"
   ]
  },
  {
   "cell_type": "markdown",
   "id": "0321455b",
   "metadata": {},
   "source": [
    "## 2. Data Augmentation"
   ]
  },
  {
   "cell_type": "markdown",
   "id": "e0b4846b",
   "metadata": {},
   "source": [
    "### A. Creating the mask"
   ]
  },
  {
   "cell_type": "code",
   "execution_count": null,
   "id": "55d6df3a",
   "metadata": {},
   "outputs": [],
   "source": [
    "# Create a mask of input image to isolate the shape of the hand sign\n",
    "def create_mask(input_image, fill = True, show_mask = False):\n",
    "    \n",
    "    # Convert PIL Image to numpy array\n",
    "    input_image_array = np.asarray(input_image)\n",
    "    input_image_array = cv2.cvtColor(input_image_array, cv2.COLOR_BGR2RGB)\n",
    "    \n",
    "    # Define Upper and Lower Values of HSV color space of green\n",
    "    u_green = np.array([250, 250, 100])\n",
    "    l_green = np.array([30, 30, 0])\n",
    "    \n",
    "    # Create a mask by thresholding the HSV colour space of green\n",
    "    mask = cv2.inRange(input_image_array, l_green, u_green)\n",
    "    # Invert Mask\n",
    "    mask = 255 - mask\n",
    "    \n",
    "    # Fill error wholes in the mask\n",
    "    if fill:\n",
    "        # Find outer contours\n",
    "        contours = cv2.findContours(mask, cv2.RETR_EXTERNAL, cv2.CHAIN_APPROX_SIMPLE)\n",
    "        contours = contours[0] if len(contours) == 2 else contours[1]\n",
    "        # Set the mask to be completely black\n",
    "        mask = np.zeros_like(input_image_array)\n",
    "        # Draw the contours on the mask and fill the contour with white\n",
    "        for contour in contours:\n",
    "            cv2.drawContours(mask, [contour], 0, (255,255,255), -1)\n",
    "\n",
    "    # Anti-alias the mask, blur then stretch\n",
    "    # Apply blur\n",
    "    mask = cv2.GaussianBlur(mask, (0,0), sigmaX=2, sigmaY=2, borderType = cv2.BORDER_DEFAULT)\n",
    "    \n",
    "    # Apply linear stretch so that 127.5 goes to 0, but 255 stays 255\n",
    "    mask = (2*(mask.astype(np.float32))-255.0).clip(0,255).astype(np.uint8)\n",
    "    \n",
    "    # Debug tool that displays the mask generated\n",
    "    if show_mask:\n",
    "        cv2.imshow('Mask', mask)\n",
    "        cv2.waitKey(0)\n",
    "        cv2.destroyAllWindows()\n",
    "    \n",
    "    # Convert mask to a PIL Image from a numpy array\n",
    "    mask = (Image.fromarray(mask)).convert('L')\n",
    "    \n",
    "    return mask"
   ]
  },
  {
   "cell_type": "markdown",
   "id": "4e4864ce",
   "metadata": {},
   "source": [
    "### B. Background replacement and rescaling"
   ]
  },
  {
   "cell_type": "code",
   "execution_count": null,
   "id": "c73d4292",
   "metadata": {},
   "outputs": [],
   "source": [
    "# Creates white and black backgrounds\n",
    "rgb_backgrounds = []\n",
    "white_rgb_background = {\n",
    "    'rgb_image_name' : f'{255}.{255}.{255}',\n",
    "    'rgb_image' : Image.new('RGB',(640,480),(255,255,255))\n",
    "}\n",
    "rgb_backgrounds.append(white_rgb_background)\n",
    "\n",
    "black_rgb_background = {\n",
    "    'rgb_image_name' : f'{0}.{0}.{0}',\n",
    "    'rgb_image' : Image.new('RGB',(640,480),(0,0,0))\n",
    "}\n",
    "rgb_backgrounds.append(black_rgb_background)"
   ]
  },
  {
   "cell_type": "code",
   "execution_count": null,
   "id": "15543fff",
   "metadata": {},
   "outputs": [],
   "source": [
    "# Scale factors used for rescaling data augmentation on the training dataset\n",
    "Scale_Factors = [0.8,0.9,1]\n",
    "# Scale factors used for rescaling data augmentation on the testing dataset\n",
    "# Scale_Factors = [1]\n",
    "\n",
    "# Iterate through each class folder\n",
    "for label in classes:\n",
    "    label_path = os.path.join(paths['collected_images'], label)\n",
    "    # Iterate through each collected image\n",
    "    for file in os.listdir(label_path):\n",
    "        # For each image file\n",
    "        if file.endswith('jpg'):\n",
    "            # Open image\n",
    "            file_path = os.path.join(label_path, file)\n",
    "            file_image = Image.open(file_path)\n",
    "            file_name = file.replace('.jpg','')\n",
    "            \n",
    "            # Open the corresponding XML\n",
    "            file_xml_path = os.path.join(label_path, f'{file_name}.xml')\n",
    "            file_xml = minidom.parse(file_xml_path)\n",
    "            \n",
    "            # Read Bounding Box Dimensions\n",
    "            bounding_box_x_min = int(file_xml.getElementsByTagName('xmin')[0].firstChild.data)\n",
    "            bounding_box_y_min = int(file_xml.getElementsByTagName('ymin')[0].firstChild.data)\n",
    "            bounding_box_x_max = int(file_xml.getElementsByTagName('xmax')[0].firstChild.data)\n",
    "            bounding_box_y_max = int(file_xml.getElementsByTagName('ymax')[0].firstChild.data)\n",
    "            bounding_box_width = bounding_box_x_max - bounding_box_x_min\n",
    "            bounding_box_height = bounding_box_y_max - bounding_box_y_min\n",
    "            \n",
    "            # Create a mask for the image \n",
    "            if label != 'O' and label != 'F':\n",
    "                # Create a mask for the image \n",
    "                mask = create_mask(file_image)\n",
    "            else:\n",
    "                # Create a mask for the image but do not use contour fill\n",
    "                mask = create_mask(file_image, fill = False)\n",
    "                \n",
    "            for scale in Scale_Factors:\n",
    "                #Scale image and mask\n",
    "                new_size = int(round(file_image.size[0] * scale)), int(round(file_image.size[1] * scale))\n",
    "                scaled_image = file_image.resize(new_size)\n",
    "                scaled_mask = mask.resize(new_size)\n",
    "                        \n",
    "                #Calculate scaled bounding box dimensions and offset\n",
    "                scaled_bounding_box_width = int(bounding_box_width * scale)\n",
    "                scaled_bounding_box_height = int(bounding_box_height * scale)\n",
    "                scaled_bounding_box_x_offset = int(round(bounding_box_x_min * scale))\n",
    "                scaled_bounding_box_y_offset = round(bounding_box_y_min * scale)\n",
    "                paste_position_x = int((640 - new_size[0]) / 2)\n",
    "                paste_position_y = int((480 - new_size[1]) / 2)\n",
    "            \n",
    "                # Iterate through each background image\n",
    "                for background_file in os.listdir(paths['background_images']):\n",
    "                    # For each background image\n",
    "                    if background_file.endswith('jpg'):\n",
    "                        # Open background image\n",
    "                        background_file_path = os.path.join(paths['background_images'], background_file)\n",
    "                        background_file_image = Image.open(background_file_path)\n",
    "                        background_file_name = background_file.replace('.jpg','')\n",
    "                        \n",
    "                        #Copy the background iage\n",
    "                        resulting_file_image = background_file_image.copy()\n",
    "                        \n",
    "                        # Paste the collected image on top of the background image using the mask\n",
    "                        # Essentially replacing the background of the collected image\n",
    "                        resulting_file_image.paste(scaled_image, (paste_position_x, paste_position_y), scaled_mask)\n",
    "\n",
    "                        # Generate name for resulting augmented files\n",
    "                        resulting_file_name = f'augmented-{file_name}-{background_file_name}-scale-{scale}'\n",
    "                        resulting_file_image_name = f'{resulting_file_name}.jpg'\n",
    "                        \n",
    "                        # Copy the XMl file of the orginal image\n",
    "                        resulting_file_xml = file_xml\n",
    "                        \n",
    "                        # Update the name of the corresponding image file in the XML file\n",
    "                        resulting_file_xml.getElementsByTagName('filename')[0].firstChild.data = resulting_file_image_name\n",
    "\n",
    "                        # Update bounding box values\n",
    "                        resulting_file_xml.getElementsByTagName('xmin')[0].firstChild.data = int(paste_position_x + scaled_bounding_box_x_offset)\n",
    "                        resulting_file_xml.getElementsByTagName('ymin')[0].firstChild.data = int(paste_position_y + scaled_bounding_box_y_offset)\n",
    "                        resulting_file_xml.getElementsByTagName('xmax')[0].firstChild.data = int(paste_position_x + scaled_bounding_box_x_offset + scaled_bounding_box_width)\n",
    "                        resulting_file_xml.getElementsByTagName('ymax')[0].firstChild.data = int(paste_position_y + scaled_bounding_box_y_offset + scaled_bounding_box_height)\n",
    "\n",
    "                        # Generate paths for where the augmented files will be saved\n",
    "                        resulting_file_image_path = os.path.join(paths['augmented_images'], resulting_file_image_name)\n",
    "                        resulting_file_xml_path = os.path.join(paths['augmented_images'], f'{resulting_file_name}.xml')\n",
    "\n",
    "                        # Save the new augmented image file\n",
    "                        resulting_file_image.save(resulting_file_image_path)\n",
    "\n",
    "                        # Open a new document with the augmented xml's path and write it\n",
    "                        with open(resulting_file_xml_path, 'w') as new_document:\n",
    "                            new_document.write(resulting_file_xml.toxml())\n",
    "\n",
    "                       \n",
    "\n",
    "                # Iterate through each rgb background image\n",
    "                for rgb_background in rgb_backgrounds:\n",
    "                    # Copy background image\n",
    "                    resulting_file_image = rgb_background['rgb_image'].copy()\n",
    "\n",
    "                    # Paste the collected image on top of the background image using the mask\n",
    "                    # Essentially replacing the background of the collected image\n",
    "                    resulting_file_image.paste(scaled_image, (paste_position_x, paste_position_y), scaled_mask)\n",
    "\n",
    "                    # Generate name for resulting augmented files\n",
    "                    resulting_file_name = f'augmented-{file_name}-{rgb_background[\"rgb_image_name\"]}-scale-{scale}'\n",
    "                    resulting_file_image_name = f'{resulting_file_name}.jpg'\n",
    "\n",
    "                    # Copy the XMl file of the orginal image\n",
    "                    resulting_file_xml = file_xml\n",
    "\n",
    "                    # Update the name of the corresponding image file in the XML file\n",
    "                    resulting_file_xml.getElementsByTagName('filename')[0].firstChild.data = resulting_file_image_name\n",
    "                    \n",
    "                    # Update bounding box values\n",
    "                    resulting_file_xml.getElementsByTagName('xmin')[0].firstChild.data = int(paste_position_x + scaled_bounding_box_x_offset)\n",
    "                    resulting_file_xml.getElementsByTagName('ymin')[0].firstChild.data = int(paste_position_y + scaled_bounding_box_y_offset)\n",
    "                    resulting_file_xml.getElementsByTagName('xmax')[0].firstChild.data = int(paste_position_x + scaled_bounding_box_x_offset + scaled_bounding_box_width)\n",
    "                    resulting_file_xml.getElementsByTagName('ymax')[0].firstChild.data = int(paste_position_y + scaled_bounding_box_y_offset + scaled_bounding_box_height)\n",
    "\n",
    "                    # Generate paths for where the augmented files will be saved\n",
    "                    resulting_file_image_path = os.path.join(paths['augmented_images'], resulting_file_image_name)\n",
    "                    resulting_file_xml_path = os.path.join(paths['augmented_images'], f'{resulting_file_name}.xml')\n",
    "\n",
    "                    # Save the new augmented image file\n",
    "                    resulting_file_image.save(resulting_file_image_path)\n",
    "\n",
    "                    # Open a new document with the augmented xml's path and write it\n",
    "                    with open(resulting_file_xml_path, 'w') as new_document:\n",
    "                        new_document.write(resulting_file_xml.toxml())"
   ]
  },
  {
   "cell_type": "markdown",
   "id": "ff4ed3a9",
   "metadata": {},
   "source": [
    "## Move all images and xml files into the training or testing folder"
   ]
  },
  {
   "cell_type": "code",
   "execution_count": null,
   "id": "f2adfedb",
   "metadata": {},
   "outputs": [],
   "source": [
    "# Move into training folder\n",
    "for file in os.listdir(paths['augmented_images']):\n",
    "    shutil.move(os.path.join(paths['augmented_images'], file), os.path.join(paths['training_images'], file))\n",
    "\n",
    "# Move into training folder\n",
    "for file in os.listdir(paths['augmented_images']):\n",
    "    shutil.move(os.path.join(paths['augmented_images'], file), os.path.join(paths['testing_images'], file))"
   ]
  },
  {
   "cell_type": "markdown",
   "id": "c19161fa",
   "metadata": {},
   "source": [
    "## Citations"
   ]
  },
  {
   "cell_type": "markdown",
   "id": "e652bc4f",
   "metadata": {},
   "source": [
    "Tzutalin. LabelImg. Git code (2015). https://github.com/tzutalin/labelImg"
   ]
  }
 ],
 "metadata": {
  "kernelspec": {
   "display_name": "FYP",
   "language": "python",
   "name": "fyp"
  },
  "language_info": {
   "codemirror_mode": {
    "name": "ipython",
    "version": 3
   },
   "file_extension": ".py",
   "mimetype": "text/x-python",
   "name": "python",
   "nbconvert_exporter": "python",
   "pygments_lexer": "ipython3",
   "version": "3.8.12"
  }
 },
 "nbformat": 4,
 "nbformat_minor": 5
}
