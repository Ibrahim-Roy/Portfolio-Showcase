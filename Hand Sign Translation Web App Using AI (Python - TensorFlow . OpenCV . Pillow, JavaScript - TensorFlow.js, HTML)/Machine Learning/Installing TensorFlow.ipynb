{
 "cells": [
  {
   "cell_type": "markdown",
   "id": "36f432e2",
   "metadata": {},
   "source": [
    "# Installing TensorFlow"
   ]
  },
  {
   "cell_type": "markdown",
   "id": "8b5f772f",
   "metadata": {},
   "source": [
    "## Setup"
   ]
  },
  {
   "cell_type": "code",
   "execution_count": null,
   "id": "23c632ff",
   "metadata": {},
   "outputs": [],
   "source": [
    "# Provides operating system dependent functionality\n",
    "import os\n",
    "# Name of the pretrained model we will be leveraging\n",
    "Pretrained_Model_Name = 'ssd_mobilenet_v2_fpnlite_320x320_coco17_tpu-8'\n",
    "# Link to the pretrained model file in the TensorFlow Model Zoo.\n",
    "Pretrained_Model_Url = 'http://download.tensorflow.org/models/object_detection/tf2/20200711/ssd_mobilenet_v2_fpnlite_320x320_coco17_tpu-8.tar.gz'"
   ]
  },
  {
   "cell_type": "code",
   "execution_count": null,
   "id": "61b747dc",
   "metadata": {},
   "outputs": [],
   "source": [
    "# Creates the directory hierarchy for the project\n",
    "paths = {\n",
    "    'APIModel_Path': os.path.join('Tensorflow','Models_API'),    \n",
    "    'Protoc_Path' : os.path.join('Tensorflow','Protoc'),\n",
    "    'Pretrained_Model_Path' : os.path.join('Tensorflow','Pretrained_Models'),\n",
    "}\n",
    "for path in paths.values():\n",
    "    if not os.path.exists(path):\n",
    "        !mkdir {path}"
   ]
  },
  {
   "cell_type": "markdown",
   "id": "3e7007c6",
   "metadata": {},
   "source": [
    "## 1. Installing TensorFlow Object Detection API and Protocol Buffers"
   ]
  },
  {
   "cell_type": "code",
   "execution_count": null,
   "id": "48f422f1",
   "metadata": {},
   "outputs": [],
   "source": [
    "# Used for retrieving files over https\n",
    "!pip install wget --upgrade\n",
    "import wget"
   ]
  },
  {
   "cell_type": "code",
   "execution_count": null,
   "id": "15fbca29",
   "metadata": {},
   "outputs": [],
   "source": [
    "# Clones the TensorFlow Model Garden which consists of the TensorFlow Object Detection API\n",
    "if not os.path.exists(os.path.join(paths['APIModel_Path'], 'research', 'object_detection')):\n",
    "    !git clone https://github.com/tensorflow/models {paths['APIModel_Path']}"
   ]
  },
  {
   "cell_type": "code",
   "execution_count": null,
   "id": "d226e90a",
   "metadata": {},
   "outputs": [],
   "source": [
    "# Downloads Protocol Buffers\n",
    "url = \"https://github.com/protocolbuffers/protobuf/releases/download/v3.15.6/protoc-3.15.6-win64.zip\"\n",
    "wget.download(url)\n",
    "# Installs Protocol Buffers\n",
    "!move protoc-3.15.6-win64.zip {paths['Protoc_Path']}\n",
    "!cd {paths['Protoc_Path']} && tar -xf protoc-3.15.6-win64.zip\n",
    "# Adds Protocol Buffers to the environment paths\n",
    "os.environ['PATH'] += os.pathsep + os.path.abspath(os.path.join(paths['Protoc_Path'], 'bin'))\n",
    "# Installs Object Detection API\n",
    "!cd Tensorflow/Models_API/research && protoc object_detection/protos/*.proto --python_out=. && copy object_detection\\\\\\\\packages\\\\\\\\tf2\\\\\\\\setup.py setup.py && python setup.py build && python setup.py install\n",
    "!cd Tensorflow/Models_API/research/slim && pip install -e ."
   ]
  },
  {
   "cell_type": "code",
   "execution_count": null,
   "id": "71dedfca",
   "metadata": {},
   "outputs": [],
   "source": [
    "# A collection of TensorFlow models that use TensorFlow's high level API\n",
    "!pip install --upgrade tf-models-official"
   ]
  },
  {
   "cell_type": "code",
   "execution_count": null,
   "id": "29025424",
   "metadata": {},
   "outputs": [],
   "source": [
    "# Verifys installation\n",
    "VERIFICATION_SCRIPT = os.path.join(paths['APIModel_Path'], 'research', 'object_detection', 'builders', 'model_builder_tf2_test.py')\n",
    "!python {VERIFICATION_SCRIPT}"
   ]
  },
  {
   "cell_type": "code",
   "execution_count": null,
   "id": "2b53f9e4",
   "metadata": {},
   "outputs": [],
   "source": [
    "# PIP package for Object Detection API\n",
    "import object_detection"
   ]
  },
  {
   "cell_type": "markdown",
   "id": "ae80ff30",
   "metadata": {},
   "source": [
    "## 2. Leveraging the model from TensorFlow Model Zoo"
   ]
  },
  {
   "cell_type": "code",
   "execution_count": null,
   "id": "945dbc28",
   "metadata": {},
   "outputs": [],
   "source": [
    "# Downloads the pretrained model files\n",
    "wget.download(Pretrained_Model_Url)\n",
    "# Uncompresses the pretrained model files \n",
    "!move {Pretrained_Model_Name+'.tar.gz'} {paths['Pretrained_Model_Path']}\n",
    "!cd {paths['Pretrained_Model_Path']} && tar -zxvf {Pretrained_Model_Name+'.tar.gz'}"
   ]
  },
  {
   "cell_type": "markdown",
   "id": "c20181de",
   "metadata": {},
   "source": [
    "## Citations"
   ]
  },
  {
   "cell_type": "markdown",
   "id": "a6741edd",
   "metadata": {},
   "source": [
    "@misc{tensorflowmodelgarden2020,\n",
    "  author = {Hongkun Yu, Chen Chen, Xianzhi Du, Yeqing Li, Abdullah Rashwan, Le Hou, Pengchong Jin, Fan Yang,\n",
    "            Frederick Liu, Jaeyoun Kim, and Jing Li},\n",
    "  title = {{TensorFlow Model Garden}},\n",
    "  howpublished = {\\url{https://github.com/tensorflow/models}},\n",
    "  year = {2020}\n",
    "}"
   ]
  }
 ],
 "metadata": {
  "kernelspec": {
   "display_name": "FYP",
   "language": "python",
   "name": "fyp"
  },
  "language_info": {
   "codemirror_mode": {
    "name": "ipython",
    "version": 3
   },
   "file_extension": ".py",
   "mimetype": "text/x-python",
   "name": "python",
   "nbconvert_exporter": "python",
   "pygments_lexer": "ipython3",
   "version": "3.8.12"
  }
 },
 "nbformat": 4,
 "nbformat_minor": 5
}
