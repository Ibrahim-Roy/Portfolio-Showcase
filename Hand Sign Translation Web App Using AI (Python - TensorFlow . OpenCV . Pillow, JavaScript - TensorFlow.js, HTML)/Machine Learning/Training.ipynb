{
 "cells": [
  {
   "cell_type": "markdown",
   "id": "1f7c8070",
   "metadata": {},
   "source": [
    "# Training"
   ]
  },
  {
   "cell_type": "markdown",
   "id": "702da7b4",
   "metadata": {},
   "source": [
    "## Setup"
   ]
  },
  {
   "cell_type": "code",
   "execution_count": null,
   "id": "16432b71",
   "metadata": {},
   "outputs": [],
   "source": [
    "import os\n",
    "import string\n",
    "# Name of the new model\n",
    "Custom_Model_Name = 'sign_language_detection_model_v44'\n",
    "Pretrained_Model_Name = 'ssd_mobilenet_v2_fpnlite_320x320_coco17_tpu-8'\n",
    "# Name of TF Record Script\n",
    "TF_Record_Script_Name = 'generate_tfrecord.py'\n",
    "# Name of label map\n",
    "Label_Map_Name = 'label_map.pbtxt'"
   ]
  },
  {
   "cell_type": "code",
   "execution_count": null,
   "id": "aa94e331",
   "metadata": {},
   "outputs": [],
   "source": [
    "# Creates the file hierarchy for the project\n",
    "paths = {\n",
    "    'Annotation': os.path.join('Tensorflow','Data','Annotations'),\n",
    "    'Scripts': os.path.join('Tensorflow', 'Scripts'),\n",
    "    'Images': os.path.join('Tensorflow', 'Data', 'Images'),\n",
    "    'Pretrained_Model': os.path.join('Tensorflow', 'Pretrained_Models'),\n",
    "    'Checkpoint': os.path.join('Tensorflow', 'Models', Custom_Model_Name),\n",
    "    'APIModel_Path': os.path.join('Tensorflow','Models_API'),\n",
    "}\n",
    "\n",
    "for path in paths.values():\n",
    "    if not os.path.exists(path):\n",
    "        !mkdir {path}"
   ]
  },
  {
   "cell_type": "code",
   "execution_count": null,
   "id": "660fc6b1",
   "metadata": {},
   "outputs": [],
   "source": [
    "files = {\n",
    "    'LabelMap': os.path.join(paths['Annotation'], Label_Map_Name),\n",
    "    'TF_Record_Script': os.path.join(paths['Scripts'], TF_Record_Script_Name),\n",
    "    'Pipeline_Config': os.path.join('Tensorflow', 'Models', Custom_Model_Name, 'pipeline.config'),\n",
    "}"
   ]
  },
  {
   "cell_type": "markdown",
   "id": "751be2bb",
   "metadata": {},
   "source": [
    "## 1. Creating the Label Map"
   ]
  },
  {
   "cell_type": "code",
   "execution_count": null,
   "id": "3b5371d9",
   "metadata": {
    "scrolled": true
   },
   "outputs": [],
   "source": [
    "# Array containing the name of each label\n",
    "labels = []\n",
    "labels.append({'name': 'Accept', 'id': 1})\n",
    "labels.append({'name': 'Delete', 'id': 2})\n",
    "i = 3\n",
    "for label in string.ascii_uppercase:\n",
    "    if label != 'J' and label != 'Z':\n",
    "        labels.append({'name': label, 'id': i})\n",
    "        i += 1\n",
    "\n",
    "# Writes the Label Map \n",
    "with open(files['LabelMap'], 'w') as f:\n",
    "    for label in labels:\n",
    "        f.write('item { \\n')\n",
    "        f.write(f'\\tname:\\'{label[\"name\"]}\\'\\n')\n",
    "        f.write(f'\\tid:{label[\"id\"]}\\n')\n",
    "        f.write('}\\n')"
   ]
  },
  {
   "cell_type": "markdown",
   "id": "e25f3ce4",
   "metadata": {},
   "source": [
    "## 2. Generating TFRecords"
   ]
  },
  {
   "cell_type": "code",
   "execution_count": null,
   "id": "2f96bf34",
   "metadata": {
    "scrolled": false
   },
   "outputs": [],
   "source": [
    "# Clones the script for generating TFRecords\n",
    "if not os.path.exists(files['TF_Record_Script']):\n",
    "    !git clone https://github.com/nicknochnack/GenerateTFRecord {paths['Scripts']}"
   ]
  },
  {
   "cell_type": "code",
   "execution_count": null,
   "id": "275ce4d5",
   "metadata": {
    "scrolled": true
   },
   "outputs": [],
   "source": [
    "# Creates TFRecords for both training and testing\n",
    "!python {files['TF_Record_Script']} -x {os.path.join(paths['Images'], 'train')} -l {files['LabelMap']} -o {os.path.join(paths['Annotation'], 'train.record')}\n",
    "!python {files['TF_Record_Script']} -x {os.path.join(paths['Images'], 'test')} -l {files['LabelMap']} -o {os.path.join(paths['Annotation'], 'test.record')}"
   ]
  },
  {
   "cell_type": "markdown",
   "id": "57041725",
   "metadata": {},
   "source": [
    "## 3. Update Pipeline Configuration"
   ]
  },
  {
   "cell_type": "code",
   "execution_count": null,
   "id": "e7e24bbb",
   "metadata": {},
   "outputs": [],
   "source": [
    "# Copy's the pipeline configuration of the pretrained model\n",
    "!copy {os.path.join(paths['Pretrained_Model'], Pretrained_Model_Name, 'pipeline.config')} {os.path.join(paths['Checkpoint'])}"
   ]
  },
  {
   "cell_type": "code",
   "execution_count": null,
   "id": "1beb9273",
   "metadata": {},
   "outputs": [],
   "source": [
    "# Imports TensorFlow\n",
    "import tensorflow as tf\n",
    "from object_detection.utils import config_util\n",
    "from object_detection.protos import pipeline_pb2\n",
    "from google.protobuf import text_format"
   ]
  },
  {
   "cell_type": "code",
   "execution_count": null,
   "id": "a21cd005",
   "metadata": {},
   "outputs": [],
   "source": [
    "# Returns dictionary of configuration objects\n",
    "config = config_util.get_configs_from_pipeline_file(files['Pipeline_Config'])"
   ]
  },
  {
   "cell_type": "code",
   "execution_count": null,
   "id": "327a4837",
   "metadata": {},
   "outputs": [],
   "source": [
    "# Create pipeline object\n",
    "pipeline_config = pipeline_pb2.TrainEvalPipelineConfig()\n",
    "# Merge the pipeline of pretrained model to the object\n",
    "with tf.io.gfile.GFile(files['Pipeline_Config'], \"r\") as f:                                                                                                                                                                                                                     \n",
    "    proto_str = f.read()                                                                                                                                                                                                                                          \n",
    "    text_format.Merge(proto_str, pipeline_config) "
   ]
  },
  {
   "cell_type": "code",
   "execution_count": null,
   "id": "d6373bc3",
   "metadata": {},
   "outputs": [],
   "source": [
    "# Change number of total classes\n",
    "pipeline_config.model.ssd.num_classes = len(labels)\n",
    "# Change batch size\n",
    "pipeline_config.train_config.batch_size = 4\n",
    "# Set the checkpoint path to the pretrained model checkpoint\n",
    "pipeline_config.train_config.fine_tune_checkpoint = os.path.join(paths['Pretrained_Model'], Pretrained_Model_Name, 'checkpoint', 'ckpt-0')\n",
    "pipeline_config.train_config.fine_tune_checkpoint_type = \"detection\"\n",
    "# Set the paths to the new Label Maps and TFRecords\n",
    "pipeline_config.train_input_reader.label_map_path= files['LabelMap']\n",
    "pipeline_config.train_input_reader.tf_record_input_reader.input_path[:] = [os.path.join(paths['Annotation'], 'train.record')]\n",
    "pipeline_config.eval_input_reader[0].label_map_path = files['LabelMap']\n",
    "pipeline_config.eval_input_reader[0].tf_record_input_reader.input_path[:] = [os.path.join(paths['Annotation'], 'test.record')]"
   ]
  },
  {
   "cell_type": "code",
   "execution_count": null,
   "id": "b78d3881",
   "metadata": {},
   "outputs": [],
   "source": [
    "# Writes the updated pipeline config\n",
    "config_text = text_format.MessageToString(pipeline_config)                                                                                                                                                                                                        \n",
    "with tf.io.gfile.GFile(files['Pipeline_Config'], \"wb\") as f:                                                                                                                                                                                                                     \n",
    "    f.write(config_text)   "
   ]
  },
  {
   "cell_type": "markdown",
   "id": "cc68fd22",
   "metadata": {},
   "source": [
    "## 4. Training"
   ]
  },
  {
   "cell_type": "code",
   "execution_count": null,
   "id": "31538c1d",
   "metadata": {},
   "outputs": [],
   "source": [
    "# Path to the object detection API script for training and evaluation\n",
    "Training_Script = os.path.join(paths['APIModel_Path'], 'research', 'object_detection', 'model_main_tf2.py')"
   ]
  },
  {
   "cell_type": "code",
   "execution_count": null,
   "id": "015ec991",
   "metadata": {},
   "outputs": [],
   "source": [
    "training_command = f'python {Training_Script} --model_dir={paths[\"Checkpoint\"]} --pipeline_config_path={files[\"Pipeline_Config\"]} --num_train_steps=2000'"
   ]
  },
  {
   "cell_type": "code",
   "execution_count": null,
   "id": "ebf85fb4",
   "metadata": {
    "scrolled": false
   },
   "outputs": [],
   "source": [
    "# The command is run manually in the terminal so the progress can be seen\n",
    "print(training_command)"
   ]
  },
  {
   "cell_type": "markdown",
   "id": "39fc1f86",
   "metadata": {},
   "source": [
    "## 5. Freeze the Graph"
   ]
  },
  {
   "cell_type": "code",
   "execution_count": null,
   "id": "c1430e89",
   "metadata": {},
   "outputs": [],
   "source": [
    "# Path to the object detection API script for exporting\n",
    "FREEZE_SCRIPT = os.path.join(paths['APIModel_Path'], 'research', 'object_detection', 'exporter_main_v2.py ')"
   ]
  },
  {
   "cell_type": "code",
   "execution_count": null,
   "id": "299afc06",
   "metadata": {},
   "outputs": [],
   "source": [
    "command = \"python {} --input_type=image_tensor --pipeline_config_path={} --trained_checkpoint_dir={} --output_directory={}\".format(FREEZE_SCRIPT ,files['Pipeline_Config'], paths['Checkpoint'], paths['Output'])"
   ]
  },
  {
   "cell_type": "code",
   "execution_count": null,
   "id": "d4609508",
   "metadata": {},
   "outputs": [],
   "source": [
    "!{command}"
   ]
  },
  {
   "cell_type": "markdown",
   "id": "8e1c1e5d",
   "metadata": {},
   "source": [
    "## 6. Convert to TensorFlow.js"
   ]
  },
  {
   "cell_type": "code",
   "execution_count": null,
   "id": "e5d907a1",
   "metadata": {},
   "outputs": [],
   "source": [
    "# Install TensorFlow.js\n",
    "!pip install tensorflowjs"
   ]
  },
  {
   "cell_type": "code",
   "execution_count": null,
   "id": "57198023",
   "metadata": {},
   "outputs": [],
   "source": [
    "command = \"tensorflowjs_converter --input_format=tf_saved_model --output_node_names='detection_boxes,detection_classes,detection_features,detection_multiclass_scores,detection_scores,num_detections,raw_detection_boxes,raw_detection_scores' --output_format=tfjs_graph_model --signature_name=serving_default {} {}\".format(os.path.join(paths['Output'], 'saved_model'), paths['TFJS'])"
   ]
  },
  {
   "cell_type": "code",
   "execution_count": null,
   "id": "f3e62999",
   "metadata": {},
   "outputs": [],
   "source": [
    "!{command}"
   ]
  },
  {
   "cell_type": "markdown",
   "id": "3ef1a548",
   "metadata": {},
   "source": [
    "## 7. Evaluation"
   ]
  },
  {
   "cell_type": "code",
   "execution_count": null,
   "id": "cb88de7b",
   "metadata": {},
   "outputs": [],
   "source": [
    "evaluation_command = f'python {Training_Script} --model_dir={paths[\"Checkpoint\"]} --pipeline_config_path={files[\"Pipeline_Config\"]} --checkpoint_dir={paths[\"Checkpoint\"]}'"
   ]
  },
  {
   "cell_type": "code",
   "execution_count": null,
   "id": "04d8f9b8",
   "metadata": {},
   "outputs": [],
   "source": [
    "# The command is run manually in the terminal so the progress can be seen\n",
    "print(evaluation_command)"
   ]
  },
  {
   "cell_type": "markdown",
   "id": "5ae43016",
   "metadata": {},
   "source": [
    "## Citation"
   ]
  },
  {
   "cell_type": "markdown",
   "id": "cb65329c",
   "metadata": {},
   "source": [
    "@misc{tensorflowmodelgarden2020, author = {Hongkun Yu, Chen Chen, Xianzhi Du, Yeqing Li, Abdullah Rashwan, Le Hou, Pengchong Jin, Fan Yang, Frederick Liu, Jaeyoun Kim, and Jing Li}, title = {{TensorFlow Model Garden}}, howpublished = {\\url{https://github.com/tensorflow/models}}, year = {2020} }"
   ]
  }
 ],
 "metadata": {
  "kernelspec": {
   "display_name": "FYP",
   "language": "python",
   "name": "fyp"
  },
  "language_info": {
   "codemirror_mode": {
    "name": "ipython",
    "version": 3
   },
   "file_extension": ".py",
   "mimetype": "text/x-python",
   "name": "python",
   "nbconvert_exporter": "python",
   "pygments_lexer": "ipython3",
   "version": "3.8.12"
  }
 },
 "nbformat": 4,
 "nbformat_minor": 5
}
